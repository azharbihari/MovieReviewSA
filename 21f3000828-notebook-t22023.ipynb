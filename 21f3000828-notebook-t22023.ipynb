{
 "cells": [
  {
   "cell_type": "code",
   "execution_count": 1,
   "id": "a224a013",
   "metadata": {
    "_cell_guid": "b1076dfc-b9ad-4769-8c92-a6c4dae69d19",
    "_uuid": "8f2839f25d086af736a60e9eeb907d3b93b6e0e5",
    "execution": {
     "iopub.execute_input": "2023-08-12T04:04:33.148643Z",
     "iopub.status.busy": "2023-08-12T04:04:33.147721Z",
     "iopub.status.idle": "2023-08-12T04:04:33.164369Z",
     "shell.execute_reply": "2023-08-12T04:04:33.163535Z"
    },
    "papermill": {
     "duration": 0.034884,
     "end_time": "2023-08-12T04:04:33.167375",
     "exception": false,
     "start_time": "2023-08-12T04:04:33.132491",
     "status": "completed"
    },
    "tags": []
   },
   "outputs": [
    {
     "name": "stdout",
     "output_type": "stream",
     "text": [
      "/kaggle/input/sentiment-prediction-on-movie-reviews/movies.csv\n",
      "/kaggle/input/sentiment-prediction-on-movie-reviews/sample.csv\n",
      "/kaggle/input/sentiment-prediction-on-movie-reviews/train.csv\n",
      "/kaggle/input/sentiment-prediction-on-movie-reviews/test.csv\n"
     ]
    }
   ],
   "source": [
    "# This Python 3 environment comes with many helpful analytics libraries installed\n",
    "# It is defined by the kaggle/python Docker image: https://github.com/kaggle/docker-python\n",
    "# For example, here's several helpful packages to load\n",
    "\n",
    "import numpy as np # linear algebra\n",
    "import pandas as pd # data processing, CSV file I/O (e.g. pd.read_csv)\n",
    "\n",
    "# Input data files are available in the read-only \"../input/\" directory\n",
    "# For example, running this (by clicking run or pressing Shift+Enter) will list all files under the input directory\n",
    "\n",
    "import os\n",
    "for dirname, _, filenames in os.walk('/kaggle/input'):\n",
    "    for filename in filenames:\n",
    "        print(os.path.join(dirname, filename))\n",
    "\n",
    "# You can write up to 20GB to the current directory (/kaggle/working/) that gets preserved as output when you create a version using \"Save & Run All\" \n",
    "# You can also write temporary files to /kaggle/temp/, but they won't be saved outside of the current session"
   ]
  },
  {
   "cell_type": "code",
   "execution_count": 2,
   "id": "42a9122a",
   "metadata": {
    "execution": {
     "iopub.execute_input": "2023-08-12T04:04:33.189567Z",
     "iopub.status.busy": "2023-08-12T04:04:33.189171Z",
     "iopub.status.idle": "2023-08-12T04:04:36.044449Z",
     "shell.execute_reply": "2023-08-12T04:04:36.043128Z"
    },
    "papermill": {
     "duration": 2.8697,
     "end_time": "2023-08-12T04:04:36.047431",
     "exception": false,
     "start_time": "2023-08-12T04:04:33.177731",
     "status": "completed"
    },
    "tags": []
   },
   "outputs": [],
   "source": [
    "# Import necessary libraries\n",
    "from sklearn.feature_extraction.text import TfidfVectorizer, CountVectorizer\n",
    "from sklearn.preprocessing import LabelBinarizer, StandardScaler\n",
    "from sklearn.pipeline import Pipeline\n",
    "from sklearn.naive_bayes import MultinomialNB\n",
    "from sklearn.model_selection import train_test_split\n",
    "from sklearn.metrics import classification_report, f1_score\n",
    "from sklearn.model_selection import train_test_split, GridSearchCV\n",
    "from sklearn.linear_model import LogisticRegression, SGDClassifier\n",
    "import matplotlib.pyplot as plt\n",
    "import seaborn as sns\n",
    "from sklearn.svm import SVC\n",
    "from sklearn.compose import ColumnTransformer \n",
    "from sklearn.model_selection import RandomizedSearchCV\n",
    "from scipy.stats import uniform, randint\n",
    "from xgboost import XGBClassifier\n",
    "from sklearn.ensemble import RandomForestClassifier, GradientBoostingClassifier\n",
    "from sklearn.preprocessing import LabelEncoder, OneHotEncoder\n",
    "from sklearn.model_selection import RepeatedStratifiedKFold\n",
    "from imblearn.over_sampling import RandomOverSampler\n",
    "from sklearn.metrics import classification_report, f1_score, confusion_matrix, ConfusionMatrixDisplay\n",
    "from imblearn.over_sampling import RandomOverSampler\n",
    "from sklearn.impute import SimpleImputer"
   ]
  },
  {
   "cell_type": "code",
   "execution_count": 3,
   "id": "714b672f",
   "metadata": {
    "execution": {
     "iopub.execute_input": "2023-08-12T04:04:36.069419Z",
     "iopub.status.busy": "2023-08-12T04:04:36.069016Z",
     "iopub.status.idle": "2023-08-12T04:04:38.541664Z",
     "shell.execute_reply": "2023-08-12T04:04:38.540216Z"
    },
    "papermill": {
     "duration": 2.487055,
     "end_time": "2023-08-12T04:04:38.544719",
     "exception": false,
     "start_time": "2023-08-12T04:04:36.057664",
     "status": "completed"
    },
    "tags": []
   },
   "outputs": [],
   "source": [
    "# Load the datasets\n",
    "movies_df = pd.read_csv('/kaggle/input/sentiment-prediction-on-movie-reviews/movies.csv')\n",
    "train_df = pd.read_csv('/kaggle/input/sentiment-prediction-on-movie-reviews/train.csv')\n",
    "test_df = pd.read_csv('/kaggle/input/sentiment-prediction-on-movie-reviews/test.csv')"
   ]
  },
  {
   "cell_type": "markdown",
   "id": "1fc95737",
   "metadata": {
    "papermill": {
     "duration": 0.009695,
     "end_time": "2023-08-12T04:04:38.564782",
     "exception": false,
     "start_time": "2023-08-12T04:04:38.555087",
     "status": "completed"
    },
    "tags": []
   },
   "source": [
    "# Exploratory Data Analysis"
   ]
  },
  {
   "cell_type": "code",
   "execution_count": 4,
   "id": "da4c4c56",
   "metadata": {
    "execution": {
     "iopub.execute_input": "2023-08-12T04:04:38.586598Z",
     "iopub.status.busy": "2023-08-12T04:04:38.586157Z",
     "iopub.status.idle": "2023-08-12T04:04:38.624940Z",
     "shell.execute_reply": "2023-08-12T04:04:38.623761Z"
    },
    "papermill": {
     "duration": 0.052906,
     "end_time": "2023-08-12T04:04:38.627589",
     "exception": false,
     "start_time": "2023-08-12T04:04:38.574683",
     "status": "completed"
    },
    "tags": []
   },
   "outputs": [
    {
     "data": {
      "text/html": [
       "<div>\n",
       "<style scoped>\n",
       "    .dataframe tbody tr th:only-of-type {\n",
       "        vertical-align: middle;\n",
       "    }\n",
       "\n",
       "    .dataframe tbody tr th {\n",
       "        vertical-align: top;\n",
       "    }\n",
       "\n",
       "    .dataframe thead th {\n",
       "        text-align: right;\n",
       "    }\n",
       "</style>\n",
       "<table border=\"1\" class=\"dataframe\">\n",
       "  <thead>\n",
       "    <tr style=\"text-align: right;\">\n",
       "      <th></th>\n",
       "      <th>movieid</th>\n",
       "      <th>title</th>\n",
       "      <th>audienceScore</th>\n",
       "      <th>rating</th>\n",
       "      <th>ratingContents</th>\n",
       "      <th>releaseDateTheaters</th>\n",
       "      <th>releaseDateStreaming</th>\n",
       "      <th>runtimeMinutes</th>\n",
       "      <th>genre</th>\n",
       "      <th>originalLanguage</th>\n",
       "      <th>director</th>\n",
       "      <th>boxOffice</th>\n",
       "      <th>distributor</th>\n",
       "      <th>soundType</th>\n",
       "    </tr>\n",
       "  </thead>\n",
       "  <tbody>\n",
       "    <tr>\n",
       "      <th>0</th>\n",
       "      <td>han_solo_heroic_myth_wonder_woman</td>\n",
       "      <td>Han Solo Heroic Myth Wonder Woman</td>\n",
       "      <td>50.0</td>\n",
       "      <td>NaN</td>\n",
       "      <td>NaN</td>\n",
       "      <td>NaN</td>\n",
       "      <td>2018-08-25</td>\n",
       "      <td>75.0</td>\n",
       "      <td>Comedy, Horror, Sci-fi</td>\n",
       "      <td>English</td>\n",
       "      <td>Claude Nicolet</td>\n",
       "      <td>NaN</td>\n",
       "      <td>NaN</td>\n",
       "      <td>NaN</td>\n",
       "    </tr>\n",
       "    <tr>\n",
       "      <th>1</th>\n",
       "      <td>voyage_tyler_durden_han_solo_stardust</td>\n",
       "      <td>Voyage Tyler Durden Han Solo Stardust</td>\n",
       "      <td>NaN</td>\n",
       "      <td>NaN</td>\n",
       "      <td>NaN</td>\n",
       "      <td>NaN</td>\n",
       "      <td>2020-02-11</td>\n",
       "      <td>114.0</td>\n",
       "      <td>Drama</td>\n",
       "      <td>English</td>\n",
       "      <td>Nathan Haack</td>\n",
       "      <td>NaN</td>\n",
       "      <td>NaN</td>\n",
       "      <td>NaN</td>\n",
       "    </tr>\n",
       "    <tr>\n",
       "      <th>2</th>\n",
       "      <td>norman_bates_ferris_bueller_hermione_granger_v...</td>\n",
       "      <td>Norman Bates Ferris Bueller Hermione Granger V...</td>\n",
       "      <td>43.0</td>\n",
       "      <td>NaN</td>\n",
       "      <td>NaN</td>\n",
       "      <td>NaN</td>\n",
       "      <td>NaN</td>\n",
       "      <td>120.0</td>\n",
       "      <td>Drama</td>\n",
       "      <td>Korean</td>\n",
       "      <td>Theresa Smith</td>\n",
       "      <td>NaN</td>\n",
       "      <td>NaN</td>\n",
       "      <td>NaN</td>\n",
       "    </tr>\n",
       "    <tr>\n",
       "      <th>3</th>\n",
       "      <td>elegant_hermione_granger</td>\n",
       "      <td>Elegant Hermione Granger</td>\n",
       "      <td>60.0</td>\n",
       "      <td>NaN</td>\n",
       "      <td>NaN</td>\n",
       "      <td>NaN</td>\n",
       "      <td>2020-10-23</td>\n",
       "      <td>90.0</td>\n",
       "      <td>Action, Mystery &amp; thriller</td>\n",
       "      <td>English</td>\n",
       "      <td>Donald Lewis</td>\n",
       "      <td>NaN</td>\n",
       "      <td>NaN</td>\n",
       "      <td>NaN</td>\n",
       "    </tr>\n",
       "    <tr>\n",
       "      <th>4</th>\n",
       "      <td>adventure_rocky_balboa</td>\n",
       "      <td>Adventure Rocky Balboa</td>\n",
       "      <td>70.0</td>\n",
       "      <td>NaN</td>\n",
       "      <td>NaN</td>\n",
       "      <td>NaN</td>\n",
       "      <td>2017-03-27</td>\n",
       "      <td>80.0</td>\n",
       "      <td>Fantasy, Adventure, Animation</td>\n",
       "      <td>English</td>\n",
       "      <td>Howard Simms</td>\n",
       "      <td>NaN</td>\n",
       "      <td>NaN</td>\n",
       "      <td>NaN</td>\n",
       "    </tr>\n",
       "  </tbody>\n",
       "</table>\n",
       "</div>"
      ],
      "text/plain": [
       "                                             movieid  \\\n",
       "0                  han_solo_heroic_myth_wonder_woman   \n",
       "1              voyage_tyler_durden_han_solo_stardust   \n",
       "2  norman_bates_ferris_bueller_hermione_granger_v...   \n",
       "3                           elegant_hermione_granger   \n",
       "4                             adventure_rocky_balboa   \n",
       "\n",
       "                                               title  audienceScore rating  \\\n",
       "0                  Han Solo Heroic Myth Wonder Woman           50.0    NaN   \n",
       "1              Voyage Tyler Durden Han Solo Stardust            NaN    NaN   \n",
       "2  Norman Bates Ferris Bueller Hermione Granger V...           43.0    NaN   \n",
       "3                           Elegant Hermione Granger           60.0    NaN   \n",
       "4                             Adventure Rocky Balboa           70.0    NaN   \n",
       "\n",
       "  ratingContents releaseDateTheaters releaseDateStreaming  runtimeMinutes  \\\n",
       "0            NaN                 NaN           2018-08-25            75.0   \n",
       "1            NaN                 NaN           2020-02-11           114.0   \n",
       "2            NaN                 NaN                  NaN           120.0   \n",
       "3            NaN                 NaN           2020-10-23            90.0   \n",
       "4            NaN                 NaN           2017-03-27            80.0   \n",
       "\n",
       "                           genre originalLanguage        director boxOffice  \\\n",
       "0         Comedy, Horror, Sci-fi          English  Claude Nicolet       NaN   \n",
       "1                          Drama          English    Nathan Haack       NaN   \n",
       "2                          Drama           Korean   Theresa Smith       NaN   \n",
       "3     Action, Mystery & thriller          English    Donald Lewis       NaN   \n",
       "4  Fantasy, Adventure, Animation          English    Howard Simms       NaN   \n",
       "\n",
       "  distributor soundType  \n",
       "0         NaN       NaN  \n",
       "1         NaN       NaN  \n",
       "2         NaN       NaN  \n",
       "3         NaN       NaN  \n",
       "4         NaN       NaN  "
      ]
     },
     "execution_count": 4,
     "metadata": {},
     "output_type": "execute_result"
    }
   ],
   "source": [
    "# Display the first few rows of the movies dataset\n",
    "movies_df.head()"
   ]
  },
  {
   "cell_type": "code",
   "execution_count": 5,
   "id": "7f9921ec",
   "metadata": {
    "execution": {
     "iopub.execute_input": "2023-08-12T04:04:38.651372Z",
     "iopub.status.busy": "2023-08-12T04:04:38.650694Z",
     "iopub.status.idle": "2023-08-12T04:04:38.662589Z",
     "shell.execute_reply": "2023-08-12T04:04:38.661381Z"
    },
    "papermill": {
     "duration": 0.026755,
     "end_time": "2023-08-12T04:04:38.664961",
     "exception": false,
     "start_time": "2023-08-12T04:04:38.638206",
     "status": "completed"
    },
    "tags": []
   },
   "outputs": [
    {
     "data": {
      "text/html": [
       "<div>\n",
       "<style scoped>\n",
       "    .dataframe tbody tr th:only-of-type {\n",
       "        vertical-align: middle;\n",
       "    }\n",
       "\n",
       "    .dataframe tbody tr th {\n",
       "        vertical-align: top;\n",
       "    }\n",
       "\n",
       "    .dataframe thead th {\n",
       "        text-align: right;\n",
       "    }\n",
       "</style>\n",
       "<table border=\"1\" class=\"dataframe\">\n",
       "  <thead>\n",
       "    <tr style=\"text-align: right;\">\n",
       "      <th></th>\n",
       "      <th>movieid</th>\n",
       "      <th>reviewerName</th>\n",
       "      <th>isFrequentReviewer</th>\n",
       "      <th>reviewText</th>\n",
       "      <th>sentiment</th>\n",
       "    </tr>\n",
       "  </thead>\n",
       "  <tbody>\n",
       "    <tr>\n",
       "      <th>0</th>\n",
       "      <td>marvelous_pirate</td>\n",
       "      <td>Benjamin Henry</td>\n",
       "      <td>False</td>\n",
       "      <td>Henry Selick’s first movie since 2009’s Corali...</td>\n",
       "      <td>POSITIVE</td>\n",
       "    </tr>\n",
       "    <tr>\n",
       "      <th>1</th>\n",
       "      <td>tony_montana_frodo_baggins_v_rocky_balboa</td>\n",
       "      <td>Felicia Lopez</td>\n",
       "      <td>False</td>\n",
       "      <td>With a cast that reads like the Vogue Oscar pa...</td>\n",
       "      <td>NEGATIVE</td>\n",
       "    </tr>\n",
       "    <tr>\n",
       "      <th>2</th>\n",
       "      <td>darth_vader_katniss_everdeen_sorcerer_donnie_d...</td>\n",
       "      <td>Mr. Charles Burgess</td>\n",
       "      <td>True</td>\n",
       "      <td>Creed II does not give us anything but another...</td>\n",
       "      <td>POSITIVE</td>\n",
       "    </tr>\n",
       "    <tr>\n",
       "      <th>3</th>\n",
       "      <td>lara_croft_glimmer</td>\n",
       "      <td>Ryan Barrett</td>\n",
       "      <td>False</td>\n",
       "      <td>I know what you're thinking, but this is no Li...</td>\n",
       "      <td>POSITIVE</td>\n",
       "    </tr>\n",
       "    <tr>\n",
       "      <th>4</th>\n",
       "      <td>jason_bourne_surreal_the_terminator_indiana_jones</td>\n",
       "      <td>Alexander Glover</td>\n",
       "      <td>False</td>\n",
       "      <td>Director Fernando Meirelles tells the story wi...</td>\n",
       "      <td>POSITIVE</td>\n",
       "    </tr>\n",
       "  </tbody>\n",
       "</table>\n",
       "</div>"
      ],
      "text/plain": [
       "                                             movieid         reviewerName  \\\n",
       "0                                   marvelous_pirate       Benjamin Henry   \n",
       "1          tony_montana_frodo_baggins_v_rocky_balboa        Felicia Lopez   \n",
       "2  darth_vader_katniss_everdeen_sorcerer_donnie_d...  Mr. Charles Burgess   \n",
       "3                                 lara_croft_glimmer         Ryan Barrett   \n",
       "4  jason_bourne_surreal_the_terminator_indiana_jones     Alexander Glover   \n",
       "\n",
       "   isFrequentReviewer                                         reviewText  \\\n",
       "0               False  Henry Selick’s first movie since 2009’s Corali...   \n",
       "1               False  With a cast that reads like the Vogue Oscar pa...   \n",
       "2                True  Creed II does not give us anything but another...   \n",
       "3               False  I know what you're thinking, but this is no Li...   \n",
       "4               False  Director Fernando Meirelles tells the story wi...   \n",
       "\n",
       "  sentiment  \n",
       "0  POSITIVE  \n",
       "1  NEGATIVE  \n",
       "2  POSITIVE  \n",
       "3  POSITIVE  \n",
       "4  POSITIVE  "
      ]
     },
     "execution_count": 5,
     "metadata": {},
     "output_type": "execute_result"
    }
   ],
   "source": [
    "# Display the first few rows of the train dataset\n",
    "train_df.head()"
   ]
  },
  {
   "cell_type": "code",
   "execution_count": 6,
   "id": "de50335f",
   "metadata": {
    "execution": {
     "iopub.execute_input": "2023-08-12T04:04:38.689274Z",
     "iopub.status.busy": "2023-08-12T04:04:38.688810Z",
     "iopub.status.idle": "2023-08-12T04:04:38.700325Z",
     "shell.execute_reply": "2023-08-12T04:04:38.699304Z"
    },
    "papermill": {
     "duration": 0.026363,
     "end_time": "2023-08-12T04:04:38.702283",
     "exception": false,
     "start_time": "2023-08-12T04:04:38.675920",
     "status": "completed"
    },
    "tags": []
   },
   "outputs": [
    {
     "data": {
      "text/html": [
       "<div>\n",
       "<style scoped>\n",
       "    .dataframe tbody tr th:only-of-type {\n",
       "        vertical-align: middle;\n",
       "    }\n",
       "\n",
       "    .dataframe tbody tr th {\n",
       "        vertical-align: top;\n",
       "    }\n",
       "\n",
       "    .dataframe thead th {\n",
       "        text-align: right;\n",
       "    }\n",
       "</style>\n",
       "<table border=\"1\" class=\"dataframe\">\n",
       "  <thead>\n",
       "    <tr style=\"text-align: right;\">\n",
       "      <th></th>\n",
       "      <th>movieid</th>\n",
       "      <th>reviewerName</th>\n",
       "      <th>isTopCritic</th>\n",
       "      <th>reviewText</th>\n",
       "    </tr>\n",
       "  </thead>\n",
       "  <tbody>\n",
       "    <tr>\n",
       "      <th>0</th>\n",
       "      <td>legend_marty_mcfly_oracle</td>\n",
       "      <td>John Kim</td>\n",
       "      <td>False</td>\n",
       "      <td>Green slowly cranks up the dread with style an...</td>\n",
       "    </tr>\n",
       "    <tr>\n",
       "      <th>1</th>\n",
       "      <td>terminator_katniss_everdeen_glimmer</td>\n",
       "      <td>Brian Chaney</td>\n",
       "      <td>False</td>\n",
       "      <td>Philip Noyce's direction is elegant and unforc...</td>\n",
       "    </tr>\n",
       "    <tr>\n",
       "      <th>2</th>\n",
       "      <td>james_bond_labyrinth_gollum</td>\n",
       "      <td>Danielle Parker</td>\n",
       "      <td>False</td>\n",
       "      <td>It wouldn't do to say what path Maria ultimate...</td>\n",
       "    </tr>\n",
       "    <tr>\n",
       "      <th>3</th>\n",
       "      <td>v_quest_han_solo_wondrous</td>\n",
       "      <td>Brittany Lane</td>\n",
       "      <td>False</td>\n",
       "      <td>Pig is not exactly the arthouse John Wick that...</td>\n",
       "    </tr>\n",
       "    <tr>\n",
       "      <th>4</th>\n",
       "      <td>enigma_hulk_surreal_starlight</td>\n",
       "      <td>Justin Willis</td>\n",
       "      <td>False</td>\n",
       "      <td>An imaginative no-budget musical of sorts abou...</td>\n",
       "    </tr>\n",
       "  </tbody>\n",
       "</table>\n",
       "</div>"
      ],
      "text/plain": [
       "                               movieid     reviewerName  isTopCritic  \\\n",
       "0            legend_marty_mcfly_oracle         John Kim        False   \n",
       "1  terminator_katniss_everdeen_glimmer     Brian Chaney        False   \n",
       "2          james_bond_labyrinth_gollum  Danielle Parker        False   \n",
       "3            v_quest_han_solo_wondrous    Brittany Lane        False   \n",
       "4        enigma_hulk_surreal_starlight    Justin Willis        False   \n",
       "\n",
       "                                          reviewText  \n",
       "0  Green slowly cranks up the dread with style an...  \n",
       "1  Philip Noyce's direction is elegant and unforc...  \n",
       "2  It wouldn't do to say what path Maria ultimate...  \n",
       "3  Pig is not exactly the arthouse John Wick that...  \n",
       "4  An imaginative no-budget musical of sorts abou...  "
      ]
     },
     "execution_count": 6,
     "metadata": {},
     "output_type": "execute_result"
    }
   ],
   "source": [
    "# Display the first few rows of the test dataset\n",
    "test_df.head()"
   ]
  },
  {
   "cell_type": "code",
   "execution_count": 7,
   "id": "d4f58246",
   "metadata": {
    "execution": {
     "iopub.execute_input": "2023-08-12T04:04:38.728183Z",
     "iopub.status.busy": "2023-08-12T04:04:38.727035Z",
     "iopub.status.idle": "2023-08-12T04:04:39.088112Z",
     "shell.execute_reply": "2023-08-12T04:04:39.086989Z"
    },
    "papermill": {
     "duration": 0.376959,
     "end_time": "2023-08-12T04:04:39.090659",
     "exception": false,
     "start_time": "2023-08-12T04:04:38.713700",
     "status": "completed"
    },
    "tags": []
   },
   "outputs": [
    {
     "name": "stdout",
     "output_type": "stream",
     "text": [
      "Key information and statistics of train dataset:\n",
      "<class 'pandas.core.frame.DataFrame'>\n",
      "RangeIndex: 162758 entries, 0 to 162757\n",
      "Data columns (total 5 columns):\n",
      " #   Column              Non-Null Count   Dtype \n",
      "---  ------              --------------   ----- \n",
      " 0   movieid             162758 non-null  object\n",
      " 1   reviewerName        162758 non-null  object\n",
      " 2   isFrequentReviewer  162758 non-null  bool  \n",
      " 3   reviewText          156311 non-null  object\n",
      " 4   sentiment           162758 non-null  object\n",
      "dtypes: bool(1), object(4)\n",
      "memory usage: 5.1+ MB\n",
      "None\n",
      "\n",
      "\n",
      "                                            movieid     reviewerName  \\\n",
      "count                                        162758           162758   \n",
      "unique                                        16812             4482   \n",
      "top     escape_the_terminator_tyler_durden_astonish  Sherri Morrison   \n",
      "freq                                            708              962   \n",
      "\n",
      "       isFrequentReviewer               reviewText sentiment  \n",
      "count              162758                   156311    162758  \n",
      "unique                  2                   155071         2  \n",
      "top                 False  Parental Content Review  POSITIVE  \n",
      "freq               113189                       29    108761  \n"
     ]
    }
   ],
   "source": [
    "print(\"Key information and statistics of train dataset:\")\n",
    "print(train_df.info())\n",
    "print('\\n')\n",
    "print(train_df.describe())"
   ]
  },
  {
   "cell_type": "code",
   "execution_count": 8,
   "id": "a5362cd1",
   "metadata": {
    "execution": {
     "iopub.execute_input": "2023-08-12T04:04:39.115040Z",
     "iopub.status.busy": "2023-08-12T04:04:39.114578Z",
     "iopub.status.idle": "2023-08-12T04:04:39.230029Z",
     "shell.execute_reply": "2023-08-12T04:04:39.229062Z"
    },
    "papermill": {
     "duration": 0.130692,
     "end_time": "2023-08-12T04:04:39.232490",
     "exception": false,
     "start_time": "2023-08-12T04:04:39.101798",
     "status": "completed"
    },
    "tags": []
   },
   "outputs": [
    {
     "name": "stdout",
     "output_type": "stream",
     "text": [
      "Key information and statistics of test dataset:\n",
      "<class 'pandas.core.frame.DataFrame'>\n",
      "RangeIndex: 55315 entries, 0 to 55314\n",
      "Data columns (total 4 columns):\n",
      " #   Column        Non-Null Count  Dtype \n",
      "---  ------        --------------  ----- \n",
      " 0   movieid       55315 non-null  object\n",
      " 1   reviewerName  55315 non-null  object\n",
      " 2   isTopCritic   55315 non-null  bool  \n",
      " 3   reviewText    52805 non-null  object\n",
      "dtypes: bool(1), object(3)\n",
      "memory usage: 1.3+ MB\n",
      "None\n",
      "\n",
      "\n",
      "                                            movieid     reviewerName  \\\n",
      "count                                         55315            55315   \n",
      "unique                                        16786             4495   \n",
      "top     escape_the_terminator_tyler_durden_astonish  Sherri Morrison   \n",
      "freq                                            230              428   \n",
      "\n",
      "       isTopCritic               reviewText  \n",
      "count        55315                    52805  \n",
      "unique           2                    52686  \n",
      "top          False  Parental Content Review  \n",
      "freq         38428                       12  \n"
     ]
    }
   ],
   "source": [
    "print(\"Key information and statistics of test dataset:\")\n",
    "print(test_df.info())\n",
    "print('\\n')\n",
    "print(test_df.describe())"
   ]
  },
  {
   "cell_type": "markdown",
   "id": "f1c4dbe5",
   "metadata": {
    "papermill": {
     "duration": 0.011096,
     "end_time": "2023-08-12T04:04:39.255705",
     "exception": false,
     "start_time": "2023-08-12T04:04:39.244609",
     "status": "completed"
    },
    "tags": []
   },
   "source": [
    "# Handling Missing & NaN Values"
   ]
  },
  {
   "cell_type": "code",
   "execution_count": 9,
   "id": "4ba4e2ac",
   "metadata": {
    "execution": {
     "iopub.execute_input": "2023-08-12T04:04:39.280754Z",
     "iopub.status.busy": "2023-08-12T04:04:39.280036Z",
     "iopub.status.idle": "2023-08-12T04:04:39.318929Z",
     "shell.execute_reply": "2023-08-12T04:04:39.317974Z"
    },
    "papermill": {
     "duration": 0.054121,
     "end_time": "2023-08-12T04:04:39.321285",
     "exception": false,
     "start_time": "2023-08-12T04:04:39.267164",
     "status": "completed"
    },
    "tags": []
   },
   "outputs": [
    {
     "name": "stdout",
     "output_type": "stream",
     "text": [
      "<class 'pandas.core.frame.DataFrame'>\n",
      "RangeIndex: 55315 entries, 0 to 55314\n",
      "Data columns (total 4 columns):\n",
      " #   Column        Non-Null Count  Dtype \n",
      "---  ------        --------------  ----- \n",
      " 0   movieid       55315 non-null  object\n",
      " 1   reviewerName  55315 non-null  object\n",
      " 2   isTopCritic   55315 non-null  bool  \n",
      " 3   reviewText    52805 non-null  object\n",
      "dtypes: bool(1), object(3)\n",
      "memory usage: 1.3+ MB\n"
     ]
    }
   ],
   "source": [
    "test_df.info()"
   ]
  },
  {
   "cell_type": "code",
   "execution_count": 10,
   "id": "bedc69bf",
   "metadata": {
    "execution": {
     "iopub.execute_input": "2023-08-12T04:04:39.347253Z",
     "iopub.status.busy": "2023-08-12T04:04:39.346485Z",
     "iopub.status.idle": "2023-08-12T04:04:39.350999Z",
     "shell.execute_reply": "2023-08-12T04:04:39.349915Z"
    },
    "papermill": {
     "duration": 0.020506,
     "end_time": "2023-08-12T04:04:39.353686",
     "exception": false,
     "start_time": "2023-08-12T04:04:39.333180",
     "status": "completed"
    },
    "tags": []
   },
   "outputs": [],
   "source": [
    "# test_df = test_df.replace(np.nan, \"\")\n",
    "# train_df = train_df.replace(np.nan, \"\")\n",
    "# movies_df = movies_df.replace(np.nan, \"\")"
   ]
  },
  {
   "cell_type": "code",
   "execution_count": 11,
   "id": "5db7f087",
   "metadata": {
    "execution": {
     "iopub.execute_input": "2023-08-12T04:04:39.380635Z",
     "iopub.status.busy": "2023-08-12T04:04:39.379718Z",
     "iopub.status.idle": "2023-08-12T04:04:39.790437Z",
     "shell.execute_reply": "2023-08-12T04:04:39.789265Z"
    },
    "papermill": {
     "duration": 0.427236,
     "end_time": "2023-08-12T04:04:39.793153",
     "exception": false,
     "start_time": "2023-08-12T04:04:39.365917",
     "status": "completed"
    },
    "tags": []
   },
   "outputs": [],
   "source": [
    "movies_df.drop_duplicates(subset='movieid', inplace=True)\n",
    "movies_df.drop(columns=['soundType', 'distributor', 'rating', 'ratingContents', 'originalLanguage', 'boxOffice', 'runtimeMinutes', 'releaseDateStreaming', 'releaseDateTheaters'], inplace=True)\n",
    "train = train_df.merge(movies_df, on='movieid', how='left')\n",
    "train.dropna(subset=['reviewText'], inplace=True)\n",
    "test = test_df.merge(movies_df, on='movieid', how='left')"
   ]
  },
  {
   "cell_type": "code",
   "execution_count": 12,
   "id": "bafba3b6",
   "metadata": {
    "execution": {
     "iopub.execute_input": "2023-08-12T04:04:39.818092Z",
     "iopub.status.busy": "2023-08-12T04:04:39.817298Z",
     "iopub.status.idle": "2023-08-12T04:04:40.009340Z",
     "shell.execute_reply": "2023-08-12T04:04:40.008117Z"
    },
    "papermill": {
     "duration": 0.207476,
     "end_time": "2023-08-12T04:04:40.011915",
     "exception": false,
     "start_time": "2023-08-12T04:04:39.804439",
     "status": "completed"
    },
    "tags": []
   },
   "outputs": [
    {
     "name": "stdout",
     "output_type": "stream",
     "text": [
      "Unique values in column 'movieid':\n",
      "['marvelous_pirate' 'tony_montana_frodo_baggins_v_rocky_balboa'\n",
      " 'darth_vader_katniss_everdeen_sorcerer_donnie_darko' ...\n",
      " 'dorothy_gale_luke_skywalker_luke_skywalker'\n",
      " 'don_vito_corleone_witch_annie_hall' 'forrest_gump_fantasy_epic']\n",
      "\n",
      "\n",
      "Unique values in column 'reviewerName':\n",
      "['Benjamin Henry' 'Felicia Lopez' 'Mr. Charles Burgess' ... 'Gina Boyer'\n",
      " 'David Small' 'Chad Mueller']\n",
      "\n",
      "\n",
      "Unique values in column 'isFrequentReviewer':\n",
      "[False  True]\n",
      "\n",
      "\n",
      "Unique values in column 'reviewText':\n",
      "['Henry Selick’s first movie since 2009’s Coraline. His fifth stop-motion masterpiece.'\n",
      " \"With a cast that reads like the Vogue Oscar party guest list, Valentine's Day should have been can't-miss cinema instead of standard Hollywood schmaltz.\"\n",
      " \"Creed II does not give us anything but another, slightly superior Rocky sequel. It wins on points. Just don't expect a knockout.\"\n",
      " ...\n",
      " 'This fun, gentle comedy focuses mainly on themes that families can easily discuss around the dinner table, including integrity, giving back, and the importance of family.'\n",
      " 'The film is rescued by a strong third act, but getting there is torture.'\n",
      " 'A peerless exercise in stimulus response.']\n",
      "\n",
      "\n",
      "Unique values in column 'sentiment':\n",
      "['POSITIVE' 'NEGATIVE']\n",
      "\n",
      "\n",
      "Unique values in column 'title':\n",
      "['Marvelous Pirate' 'Tony Montana Frodo Baggins V Rocky Balboa'\n",
      " 'Darth Vader Katniss Everdeen Sorcerer Donnie Darko' ...\n",
      " 'Dorothy Gale Luke Skywalker Luke Skywalker'\n",
      " 'Don Vito Corleone Witch Annie Hall' 'Forrest Gump Fantasy Epic']\n",
      "\n",
      "\n",
      "Unique values in column 'audienceScore':\n",
      "[ 65.  nan  80.  97.  47.  95.  87.  77.  54.  82.  57.  90.  88.  35.\n",
      "  43.  62.  72.  73.  41.  49.  81.  61.  33.  60.  25.  68.  58.  42.\n",
      "  92.  89.  52.  11.  79.  93.  45.  44.  78.  28.  48.  75.  22.  83.\n",
      "  86.  53.  84.  63.  40.  46.  91.  38.  71.  76.  70.  74.  64.  39.\n",
      "  66.  85.  50.  67.  56.  59.  51.  69.  94.  30.  32.  34.  19.  36.\n",
      "  18.  55.  37.  96.  29.  17. 100.  24.  26.  27.  98.  31.   0.  20.\n",
      "  14.   8.  23.   7.  15.  13.  21.  16.  99.   9.   2.  12.   5.  10.\n",
      "   6.   4.]\n",
      "\n",
      "\n",
      "Unique values in column 'genre':\n",
      "['Comedy, Animation, Adventure, Fantasy' 'Action' 'Drama' ...\n",
      " 'Action, Horror, Sci-fi, Mystery & thriller, Animation'\n",
      " 'Comedy, Kids & family, Variety'\n",
      " 'Action, Crime, Drama, Horror, Mystery & thriller']\n",
      "\n",
      "\n",
      "Unique values in column 'director':\n",
      "['Bennie Basso' 'Alma White' 'Bobby Oleary' ... 'Frances Gagne'\n",
      " 'James Fanney' 'Tawanda Ballard']\n",
      "\n",
      "\n"
     ]
    }
   ],
   "source": [
    "# Check unique values in each column of train dataset\n",
    "for column in train.columns:\n",
    "    unique_values = train[column].unique()\n",
    "    print(f\"Unique values in column '{column}':\")\n",
    "    print(unique_values)\n",
    "    print(\"\\n\")"
   ]
  },
  {
   "cell_type": "code",
   "execution_count": 13,
   "id": "a85b787f",
   "metadata": {
    "execution": {
     "iopub.execute_input": "2023-08-12T04:04:40.036925Z",
     "iopub.status.busy": "2023-08-12T04:04:40.036475Z",
     "iopub.status.idle": "2023-08-12T04:04:40.094844Z",
     "shell.execute_reply": "2023-08-12T04:04:40.093657Z"
    },
    "papermill": {
     "duration": 0.074093,
     "end_time": "2023-08-12T04:04:40.097427",
     "exception": false,
     "start_time": "2023-08-12T04:04:40.023334",
     "status": "completed"
    },
    "tags": []
   },
   "outputs": [
    {
     "name": "stdout",
     "output_type": "stream",
     "text": [
      "Unique values in column 'movieid':\n",
      "['legend_marty_mcfly_oracle' 'terminator_katniss_everdeen_glimmer'\n",
      " 'james_bond_labyrinth_gollum' ...\n",
      " 'black_widow_frodo_baggins_tony_montana_mythical'\n",
      " 'glorious_wondrous_the_terminator'\n",
      " 'adventure_katniss_everdeen_mr._miyagi_enigma']\n",
      "\n",
      "\n",
      "Unique values in column 'reviewerName':\n",
      "['John Kim' 'Brian Chaney' 'Danielle Parker' ... 'Ann Morales'\n",
      " 'Marcus Lopez DVM' 'Miss Melissa Carpenter']\n",
      "\n",
      "\n",
      "Unique values in column 'isTopCritic':\n",
      "[False  True]\n",
      "\n",
      "\n",
      "Unique values in column 'reviewText':\n",
      "['Green slowly cranks up the dread with style and even occasional shards of wit. It is more of a psychological thriller than the previous films, and all the better for it.'\n",
      " \"Philip Noyce's direction is elegant and unforced, willing to let his admirable leads and the harsh beauty of the country speak for themselves.\"\n",
      " \"It wouldn't do to say what path Maria ultimately takes... But that won't lessen the pleasure of the journey, or the stark scenery of Quebec's near north that serves as a stunning backdrop to the tale.\"\n",
      " ...\n",
      " \"Nicholson wears his devilish grin from his first scene to last, and one has to assume that's his reaction to the enormous size of his paycheck and not the material.\"\n",
      " \"It's hard not be entertained by two dozen of Cole's best, sung winningly, if not always brilliantly, by a company that includes Alanis Morissette, Elvis Costello, Sheryl Crow and (the best, fittingly) Natalie Cole.\"\n",
      " \"Not clever enough for Smith fans, not gross enough to compete on the Farrelly brothers' ground, the movie feels like a kind of self-congratulatory fake.\"]\n",
      "\n",
      "\n",
      "Unique values in column 'title':\n",
      "['Legend Marty McFly Oracle' 'Terminator Katniss Everdeen Glimmer'\n",
      " 'James Bond Labyrinth Gollum' ...\n",
      " 'Black Widow Frodo Baggins Tony Montana Mythical'\n",
      " 'Glorious Wondrous The Terminator'\n",
      " 'Adventure Katniss Everdeen Mr. Miyagi Enigma']\n",
      "\n",
      "\n",
      "Unique values in column 'audienceScore':\n",
      "[ 57.  86.  62.  84.  nan  14.  88.  73.  92.  55.  68.  49.  80.  70.\n",
      "  59.  69.  66.  44.  15.  71.  76.  82.  72.  37.  79.  67.  51.  48.\n",
      "  87.  90.  63.  27.  93.  60.  22.  81.  98.  33.  77.  83.  78.  61.\n",
      "  58.  39.  53.  91.  94.  30.  64.  40.  89.  54.  97.  65.  99.  95.\n",
      "  29.  34.  47.  96.  45.  52.  74. 100.  46.  36.   0.  41.  31.  16.\n",
      "  25.  50.  32.  56.  20.  85.  75.  38.  19.  21.  42.  28.  35.  43.\n",
      "  23.  26.  18.  24.   7.   8.   6.   3.  10.  13.   5.  12.  17.  11.\n",
      "   9.   2.   4.]\n",
      "\n",
      "\n",
      "Unique values in column 'genre':\n",
      "['Holiday, Horror, Mystery & thriller' 'Drama, Adventure' 'Drama' ...\n",
      " 'Mystery & thriller, Music' 'Action, Documentary' 'Horror, Drama, Action']\n",
      "\n",
      "\n",
      "Unique values in column 'director':\n",
      "['Sara Barnett' 'Cindy Flander' 'Charlotte Bramble' ... 'Nyla Follmer'\n",
      " 'Lawrence Vanhoose' 'Neal Foster']\n",
      "\n",
      "\n"
     ]
    }
   ],
   "source": [
    "# Check unique values in each column of train dataset\n",
    "for column in test.columns:\n",
    "    unique_values = test[column].unique()\n",
    "    print(f\"Unique values in column '{column}':\")\n",
    "    print(unique_values)\n",
    "    print(\"\\n\")"
   ]
  },
  {
   "cell_type": "code",
   "execution_count": 14,
   "id": "4f369b73",
   "metadata": {
    "execution": {
     "iopub.execute_input": "2023-08-12T04:04:40.124489Z",
     "iopub.status.busy": "2023-08-12T04:04:40.123804Z",
     "iopub.status.idle": "2023-08-12T04:04:40.301320Z",
     "shell.execute_reply": "2023-08-12T04:04:40.300032Z"
    },
    "papermill": {
     "duration": 0.194396,
     "end_time": "2023-08-12T04:04:40.303906",
     "exception": false,
     "start_time": "2023-08-12T04:04:40.109510",
     "status": "completed"
    },
    "tags": []
   },
   "outputs": [
    {
     "data": {
      "text/plain": [
       "movieid                   0\n",
       "reviewerName              0\n",
       "isFrequentReviewer        0\n",
       "reviewText                0\n",
       "sentiment                 0\n",
       "title                     0\n",
       "audienceScore         12757\n",
       "genre                  2346\n",
       "director                  0\n",
       "dtype: int64"
      ]
     },
     "execution_count": 14,
     "metadata": {},
     "output_type": "execute_result"
    }
   ],
   "source": [
    "# Check NaN values in each column of train dataset\n",
    "train_nan_values = train.isna().sum()\n",
    "train_nan_values"
   ]
  },
  {
   "cell_type": "code",
   "execution_count": 15,
   "id": "a67a527f",
   "metadata": {
    "execution": {
     "iopub.execute_input": "2023-08-12T04:04:40.332108Z",
     "iopub.status.busy": "2023-08-12T04:04:40.331619Z",
     "iopub.status.idle": "2023-08-12T04:04:40.397483Z",
     "shell.execute_reply": "2023-08-12T04:04:40.396181Z"
    },
    "papermill": {
     "duration": 0.082069,
     "end_time": "2023-08-12T04:04:40.400040",
     "exception": false,
     "start_time": "2023-08-12T04:04:40.317971",
     "status": "completed"
    },
    "tags": []
   },
   "outputs": [
    {
     "data": {
      "text/plain": [
       "movieid             0\n",
       "reviewerName        0\n",
       "isTopCritic         0\n",
       "reviewText       2510\n",
       "title               0\n",
       "audienceScore    4931\n",
       "genre             920\n",
       "director            0\n",
       "dtype: int64"
      ]
     },
     "execution_count": 15,
     "metadata": {},
     "output_type": "execute_result"
    }
   ],
   "source": [
    "# Check NaN values in each column of test dataset\n",
    "test_nan_values = test.isna().sum()\n",
    "test_nan_values"
   ]
  },
  {
   "cell_type": "code",
   "execution_count": 16,
   "id": "e40dff64",
   "metadata": {
    "execution": {
     "iopub.execute_input": "2023-08-12T04:04:40.426778Z",
     "iopub.status.busy": "2023-08-12T04:04:40.426321Z",
     "iopub.status.idle": "2023-08-12T04:04:40.432361Z",
     "shell.execute_reply": "2023-08-12T04:04:40.430876Z"
    },
    "papermill": {
     "duration": 0.022459,
     "end_time": "2023-08-12T04:04:40.434845",
     "exception": false,
     "start_time": "2023-08-12T04:04:40.412386",
     "status": "completed"
    },
    "tags": []
   },
   "outputs": [],
   "source": [
    "# # Iterate through rows with missing 'reviewText' in test dataset\n",
    "# for index, row in test[test['reviewText'].isna()].iterrows():\n",
    "#     movie_id = row['movieid']\n",
    "    \n",
    "#     # Check if the movie exists in the training dataset\n",
    "#     if movie_id in train['movieid'].values:\n",
    "#         train_movie = train[train['movieid'] == movie_id]\n",
    "        \n",
    "#         # Count positive and negative sentiment labels in the training reviews\n",
    "#         positive_count = train_movie[train_movie['sentiment'] == 'POSITIVE'].shape[0]\n",
    "#         negative_count = train_movie[train_movie['sentiment'] == 'NEGATIVE'].shape[0]\n",
    "        \n",
    "#         # Determine sentiment based on counts\n",
    "#         if positive_count > negative_count:\n",
    "#             test.at[index, 'reviewText'] = 'like most good best well very love funny too entertaining better lot emotional powerful everything interesting'\n",
    "#         else:\n",
    "#             test.at[index, 'reviewText'] = 'not like never bad nothing without old despite nothing dull fails unfortunately'\n",
    "#     else:\n",
    "#         test.at[index, 'reviewText'] = ''\n",
    "\n",
    "# # Check NaN values in updated test dataset with filled 'reviewText' values\n",
    "# test_nan_values = test.isna().sum()\n",
    "# test_nan_values"
   ]
  },
  {
   "cell_type": "code",
   "execution_count": 17,
   "id": "9f677b74",
   "metadata": {
    "execution": {
     "iopub.execute_input": "2023-08-12T04:04:40.464224Z",
     "iopub.status.busy": "2023-08-12T04:04:40.463283Z",
     "iopub.status.idle": "2023-08-12T04:04:40.468674Z",
     "shell.execute_reply": "2023-08-12T04:04:40.467799Z"
    },
    "papermill": {
     "duration": 0.022856,
     "end_time": "2023-08-12T04:04:40.470738",
     "exception": false,
     "start_time": "2023-08-12T04:04:40.447882",
     "status": "completed"
    },
    "tags": []
   },
   "outputs": [],
   "source": [
    "# Renaming Column 'isTopCritic' to 'isFrequentReviewer' in the test dataset\n",
    "test.rename(columns={'isTopCritic': 'isFrequentReviewer'}, inplace=True)"
   ]
  },
  {
   "cell_type": "markdown",
   "id": "3dddaaa4",
   "metadata": {
    "papermill": {
     "duration": 0.011771,
     "end_time": "2023-08-12T04:04:40.494812",
     "exception": false,
     "start_time": "2023-08-12T04:04:40.483041",
     "status": "completed"
    },
    "tags": []
   },
   "source": [
    "# Visualizing Key Statistics & Data Relationships"
   ]
  },
  {
   "cell_type": "code",
   "execution_count": 18,
   "id": "70478518",
   "metadata": {
    "execution": {
     "iopub.execute_input": "2023-08-12T04:04:40.521986Z",
     "iopub.status.busy": "2023-08-12T04:04:40.521276Z",
     "iopub.status.idle": "2023-08-12T04:04:40.537969Z",
     "shell.execute_reply": "2023-08-12T04:04:40.536903Z"
    },
    "papermill": {
     "duration": 0.033463,
     "end_time": "2023-08-12T04:04:40.540331",
     "exception": false,
     "start_time": "2023-08-12T04:04:40.506868",
     "status": "completed"
    },
    "tags": []
   },
   "outputs": [
    {
     "name": "stdout",
     "output_type": "stream",
     "text": [
      "Sentiment distribution:\n",
      "POSITIVE    104719\n",
      "NEGATIVE     51592\n",
      "Name: sentiment, dtype: int64\n"
     ]
    }
   ],
   "source": [
    "# Count the occurrences of each sentiment category in train data\n",
    "print(\"Sentiment distribution:\")\n",
    "print(train['sentiment'].value_counts())"
   ]
  },
  {
   "cell_type": "code",
   "execution_count": 19,
   "id": "e0eed3a0",
   "metadata": {
    "execution": {
     "iopub.execute_input": "2023-08-12T04:04:40.567987Z",
     "iopub.status.busy": "2023-08-12T04:04:40.567259Z",
     "iopub.status.idle": "2023-08-12T04:04:40.899748Z",
     "shell.execute_reply": "2023-08-12T04:04:40.898150Z"
    },
    "papermill": {
     "duration": 0.349433,
     "end_time": "2023-08-12T04:04:40.902229",
     "exception": false,
     "start_time": "2023-08-12T04:04:40.552796",
     "status": "completed"
    },
    "tags": []
   },
   "outputs": [
    {
     "data": {
      "image/png": "[encoded data removed]",
      "text/plain": [
       "<Figure size 600x400 with 1 Axes>"
      ]
     },
     "metadata": {},
     "output_type": "display_data"
    }
   ],
   "source": [
    "# Visualize the distribution of sentiment classes using a countplot\n",
    "plt.figure(figsize=(6, 4))\n",
    "sns.countplot(x='sentiment', data=train)\n",
    "plt.title('Sentiment Distribution')\n",
    "plt.xlabel('Sentiment Class')\n",
    "plt.ylabel('Count')\n",
    "plt.show()"
   ]
  },
  {
   "cell_type": "code",
   "execution_count": 20,
   "id": "57149742",
   "metadata": {
    "execution": {
     "iopub.execute_input": "2023-08-12T04:04:40.929506Z",
     "iopub.status.busy": "2023-08-12T04:04:40.929102Z",
     "iopub.status.idle": "2023-08-12T04:04:41.269644Z",
     "shell.execute_reply": "2023-08-12T04:04:41.268342Z"
    },
    "papermill": {
     "duration": 0.357302,
     "end_time": "2023-08-12T04:04:41.272305",
     "exception": false,
     "start_time": "2023-08-12T04:04:40.915003",
     "status": "completed"
    },
    "tags": []
   },
   "outputs": [
    {
     "data": {
      "image/png": "[encoded data removed]",
      "text/plain": [
       "<Figure size 640x480 with 2 Axes>"
      ]
     },
     "metadata": {},
     "output_type": "display_data"
    }
   ],
   "source": [
    "# Visualize the distribution of sentiment by frequent reviewer status using a categorical heatmap\n",
    "ct = pd.crosstab(train['sentiment'], train['isFrequentReviewer'])\n",
    "sns.heatmap(ct, annot=True, cmap='YlGnBu', fmt='d')\n",
    "plt.xlabel('Is Frequent Reviewer')\n",
    "plt.ylabel('Sentiment')\n",
    "plt.title('Categorical Heatmap of Sentiment by Frequent Reviewer Status')\n",
    "plt.show()"
   ]
  },
  {
   "cell_type": "code",
   "execution_count": 21,
   "id": "4352760d",
   "metadata": {
    "execution": {
     "iopub.execute_input": "2023-08-12T04:04:41.301858Z",
     "iopub.status.busy": "2023-08-12T04:04:41.301411Z",
     "iopub.status.idle": "2023-08-12T04:04:41.696255Z",
     "shell.execute_reply": "2023-08-12T04:04:41.695057Z"
    },
    "papermill": {
     "duration": 0.412893,
     "end_time": "2023-08-12T04:04:41.699118",
     "exception": false,
     "start_time": "2023-08-12T04:04:41.286225",
     "status": "completed"
    },
    "tags": []
   },
   "outputs": [
    {
     "data": {
      "image/png": "[encoded data removed]",
      "text/plain": [
       "<Figure size 640x480 with 1 Axes>"
      ]
     },
     "metadata": {},
     "output_type": "display_data"
    }
   ],
   "source": [
    "# Visualize the distribution of sentiment by frequent reviewer status\n",
    "sns.countplot(x='sentiment', hue='isFrequentReviewer', data=train)\n",
    "plt.xlabel('Sentiment')\n",
    "plt.ylabel('Count')\n",
    "plt.title('Sentiment Distribution by Frequent Reviewer Status')\n",
    "plt.show()"
   ]
  },
  {
   "cell_type": "code",
   "execution_count": null,
   "id": "e2cd5a4e",
   "metadata": {
    "papermill": {
     "duration": 0.014591,
     "end_time": "2023-08-12T04:04:41.728006",
     "exception": false,
     "start_time": "2023-08-12T04:04:41.713415",
     "status": "completed"
    },
    "tags": []
   },
   "outputs": [],
   "source": []
  },
  {
   "cell_type": "markdown",
   "id": "2c9ab869",
   "metadata": {
    "papermill": {
     "duration": 0.013346,
     "end_time": "2023-08-12T04:04:41.755281",
     "exception": false,
     "start_time": "2023-08-12T04:04:41.741935",
     "status": "completed"
    },
    "tags": []
   },
   "source": [
    "# Data Preparation for Model Training & Prediction"
   ]
  },
  {
   "cell_type": "code",
   "execution_count": 22,
   "id": "040b646f",
   "metadata": {
    "execution": {
     "iopub.execute_input": "2023-08-12T04:04:41.786700Z",
     "iopub.status.busy": "2023-08-12T04:04:41.785087Z",
     "iopub.status.idle": "2023-08-12T04:04:45.016937Z",
     "shell.execute_reply": "2023-08-12T04:04:45.015390Z"
    },
    "papermill": {
     "duration": 3.250767,
     "end_time": "2023-08-12T04:04:45.019815",
     "exception": false,
     "start_time": "2023-08-12T04:04:41.769048",
     "status": "completed"
    },
    "tags": []
   },
   "outputs": [],
   "source": [
    "grouped_data = train.groupby('movieid')\n",
    "\n",
    "\n",
    "\n",
    "result = grouped_data.agg({\n",
    "    'audienceScore': 'mean',\n",
    "    'sentiment': lambda x: (x == 'NEGATIVE').sum()\n",
    "})\n",
    "\n",
    "# Reset index for visualization\n",
    "result.reset_index(inplace=True)\n",
    "\n"
   ]
  },
  {
   "cell_type": "code",
   "execution_count": 23,
   "id": "eb20c7c2",
   "metadata": {
    "execution": {
     "iopub.execute_input": "2023-08-12T04:04:45.049882Z",
     "iopub.status.busy": "2023-08-12T04:04:45.049455Z",
     "iopub.status.idle": "2023-08-12T04:04:45.065679Z",
     "shell.execute_reply": "2023-08-12T04:04:45.064565Z"
    },
    "papermill": {
     "duration": 0.03372,
     "end_time": "2023-08-12T04:04:45.067867",
     "exception": false,
     "start_time": "2023-08-12T04:04:45.034147",
     "status": "completed"
    },
    "tags": []
   },
   "outputs": [
    {
     "data": {
      "text/html": [
       "<div>\n",
       "<style scoped>\n",
       "    .dataframe tbody tr th:only-of-type {\n",
       "        vertical-align: middle;\n",
       "    }\n",
       "\n",
       "    .dataframe tbody tr th {\n",
       "        vertical-align: top;\n",
       "    }\n",
       "\n",
       "    .dataframe thead th {\n",
       "        text-align: right;\n",
       "    }\n",
       "</style>\n",
       "<table border=\"1\" class=\"dataframe\">\n",
       "  <thead>\n",
       "    <tr style=\"text-align: right;\">\n",
       "      <th></th>\n",
       "      <th>movieid</th>\n",
       "      <th>audienceScore</th>\n",
       "      <th>sentiment</th>\n",
       "    </tr>\n",
       "  </thead>\n",
       "  <tbody>\n",
       "    <tr>\n",
       "      <th>0</th>\n",
       "      <td>adventure_captain_america_harry_potter</td>\n",
       "      <td>NaN</td>\n",
       "      <td>15</td>\n",
       "    </tr>\n",
       "    <tr>\n",
       "      <th>1</th>\n",
       "      <td>adventure_celestial_ellen_ripley_the</td>\n",
       "      <td>67.0</td>\n",
       "      <td>0</td>\n",
       "    </tr>\n",
       "    <tr>\n",
       "      <th>2</th>\n",
       "      <td>adventure_celestial_mystery_hannibal_lecter</td>\n",
       "      <td>53.0</td>\n",
       "      <td>3</td>\n",
       "    </tr>\n",
       "    <tr>\n",
       "      <th>3</th>\n",
       "      <td>adventure_celestial_oracle</td>\n",
       "      <td>42.0</td>\n",
       "      <td>14</td>\n",
       "    </tr>\n",
       "    <tr>\n",
       "      <th>4</th>\n",
       "      <td>adventure_donnie_darko</td>\n",
       "      <td>59.0</td>\n",
       "      <td>17</td>\n",
       "    </tr>\n",
       "    <tr>\n",
       "      <th>...</th>\n",
       "      <td>...</td>\n",
       "      <td>...</td>\n",
       "      <td>...</td>\n",
       "    </tr>\n",
       "    <tr>\n",
       "      <th>16407</th>\n",
       "      <td>zephyr_whisper_princess_leia</td>\n",
       "      <td>NaN</td>\n",
       "      <td>12</td>\n",
       "    </tr>\n",
       "    <tr>\n",
       "      <th>16408</th>\n",
       "      <td>zephyr_whisper_valley_elegant</td>\n",
       "      <td>NaN</td>\n",
       "      <td>1</td>\n",
       "    </tr>\n",
       "    <tr>\n",
       "      <th>16409</th>\n",
       "      <td>zephyr_witch_ferris_bueller</td>\n",
       "      <td>79.0</td>\n",
       "      <td>0</td>\n",
       "    </tr>\n",
       "    <tr>\n",
       "      <th>16410</th>\n",
       "      <td>zephyr_wolverine_vito_corleone</td>\n",
       "      <td>95.0</td>\n",
       "      <td>0</td>\n",
       "    </tr>\n",
       "    <tr>\n",
       "      <th>16411</th>\n",
       "      <td>zephyr_wonder_woman</td>\n",
       "      <td>0.0</td>\n",
       "      <td>0</td>\n",
       "    </tr>\n",
       "  </tbody>\n",
       "</table>\n",
       "<p>16412 rows × 3 columns</p>\n",
       "</div>"
      ],
      "text/plain": [
       "                                           movieid  audienceScore  sentiment\n",
       "0           adventure_captain_america_harry_potter            NaN         15\n",
       "1             adventure_celestial_ellen_ripley_the           67.0          0\n",
       "2      adventure_celestial_mystery_hannibal_lecter           53.0          3\n",
       "3                       adventure_celestial_oracle           42.0         14\n",
       "4                           adventure_donnie_darko           59.0         17\n",
       "...                                            ...            ...        ...\n",
       "16407                 zephyr_whisper_princess_leia            NaN         12\n",
       "16408                zephyr_whisper_valley_elegant            NaN          1\n",
       "16409                  zephyr_witch_ferris_bueller           79.0          0\n",
       "16410               zephyr_wolverine_vito_corleone           95.0          0\n",
       "16411                          zephyr_wonder_woman            0.0          0\n",
       "\n",
       "[16412 rows x 3 columns]"
      ]
     },
     "execution_count": 23,
     "metadata": {},
     "output_type": "execute_result"
    }
   ],
   "source": [
    "result"
   ]
  },
  {
   "cell_type": "code",
   "execution_count": 24,
   "id": "7ac2633b",
   "metadata": {
    "execution": {
     "iopub.execute_input": "2023-08-12T04:04:45.100025Z",
     "iopub.status.busy": "2023-08-12T04:04:45.098856Z",
     "iopub.status.idle": "2023-08-12T04:04:45.398060Z",
     "shell.execute_reply": "2023-08-12T04:04:45.396697Z"
    },
    "papermill": {
     "duration": 0.318082,
     "end_time": "2023-08-12T04:04:45.400725",
     "exception": false,
     "start_time": "2023-08-12T04:04:45.082643",
     "status": "completed"
    },
    "tags": []
   },
   "outputs": [
    {
     "data": {
      "image/png": "[encoded data removed]",
      "text/plain": [
       "<Figure size 640x480 with 1 Axes>"
      ]
     },
     "metadata": {},
     "output_type": "display_data"
    }
   ],
   "source": [
    "# Visualization\n",
    "plt.scatter(result['audienceScore'], result['sentiment'])\n",
    "plt.xlabel('Movie ID')\n",
    "plt.ylabel('Average Audience Score')\n",
    "plt.title(\"Average Audience Score and Positive Sentiment Count\")\n",
    "plt.show()"
   ]
  },
  {
   "cell_type": "code",
   "execution_count": 25,
   "id": "890155b0",
   "metadata": {
    "execution": {
     "iopub.execute_input": "2023-08-12T04:04:45.434044Z",
     "iopub.status.busy": "2023-08-12T04:04:45.432909Z",
     "iopub.status.idle": "2023-08-12T04:04:46.072387Z",
     "shell.execute_reply": "2023-08-12T04:04:46.070922Z"
    },
    "papermill": {
     "duration": 0.658763,
     "end_time": "2023-08-12T04:04:46.075194",
     "exception": false,
     "start_time": "2023-08-12T04:04:45.416431",
     "status": "completed"
    },
    "tags": []
   },
   "outputs": [],
   "source": [
    "# Create a copy of the train dataset for model training\n",
    "X = train.drop(columns=['sentiment', 'genre', 'director', 'reviewerName', 'title'])\n",
    "y = train['sentiment']\n",
    "\n",
    "X = X.fillna({'audienceScore': X['audienceScore'].mean(), 'reviewText': ''})\n",
    "\n",
    "ros = RandomOverSampler(random_state=42)\n",
    "X_train, y_train = ros.fit_resample(X, y)\n",
    "\n",
    "# Create a copy of the test dataset for prediction\n",
    "X_test = test.drop(columns=['genre', 'director', 'reviewerName', 'title'])\n",
    "X_test = X_test.fillna({'audienceScore': X_test['audienceScore'].mean(), 'reviewText': ''})\n",
    "#The test dataset is now copied to X_test and is ready for prediction."
   ]
  },
  {
   "cell_type": "code",
   "execution_count": null,
   "id": "7becb912",
   "metadata": {
    "papermill": {
     "duration": 0.014483,
     "end_time": "2023-08-12T04:04:46.104648",
     "exception": false,
     "start_time": "2023-08-12T04:04:46.090165",
     "status": "completed"
    },
    "tags": []
   },
   "outputs": [],
   "source": []
  },
  {
   "cell_type": "code",
   "execution_count": null,
   "id": "c6970471",
   "metadata": {
    "papermill": {
     "duration": 0.014507,
     "end_time": "2023-08-12T04:04:46.133997",
     "exception": false,
     "start_time": "2023-08-12T04:04:46.119490",
     "status": "completed"
    },
    "tags": []
   },
   "outputs": [],
   "source": []
  },
  {
   "cell_type": "markdown",
   "id": "f62c76ed",
   "metadata": {
    "papermill": {
     "duration": 0.014802,
     "end_time": "2023-08-12T04:04:46.163681",
     "exception": false,
     "start_time": "2023-08-12T04:04:46.148879",
     "status": "completed"
    },
    "tags": []
   },
   "source": [
    "# MODEL 1\n",
    "\n",
    "## **Multinomial Naive Bayes Classifier**"
   ]
  },
  {
   "cell_type": "code",
   "execution_count": 26,
   "id": "ddc3c7a8",
   "metadata": {
    "execution": {
     "iopub.execute_input": "2023-08-12T04:04:46.195880Z",
     "iopub.status.busy": "2023-08-12T04:04:46.195448Z",
     "iopub.status.idle": "2023-08-12T04:04:46.202201Z",
     "shell.execute_reply": "2023-08-12T04:04:46.200986Z"
    },
    "papermill": {
     "duration": 0.025796,
     "end_time": "2023-08-12T04:04:46.204559",
     "exception": false,
     "start_time": "2023-08-12T04:04:46.178763",
     "status": "completed"
    },
    "tags": []
   },
   "outputs": [],
   "source": [
    "# #-------------------------------------------------------------------------------------------------------\n",
    "# # Model Training with Hyperparameter Tuning\n",
    "# #-------------------------------------------------------------------------------------------------------\n",
    "\n",
    "# label_encoder = LabelEncoder()\n",
    "# y_train_encoded = label_encoder.fit_transform(y_train)\n",
    "# preprocessor = ColumnTransformer(\n",
    "#     transformers=\n",
    "#     [\n",
    "#         ('ohe', OneHotEncoder(handle_unknown='ignore'), ['movieid', 'reviewerName']),\n",
    "# #         ('tf', TfidfVectorizer(stop_words='english'), 'reviewText')\n",
    "#         ('cv', CountVectorizer(stop_words='english'), 'reviewText')\n",
    "#     ],\n",
    "#     remainder='passthrough'\n",
    "# )\n",
    "\n",
    "# pipeline = Pipeline([\n",
    "#     ('preprocessor', preprocessor),\n",
    "#     ('classifier', MultinomialNB())\n",
    "# ])\n",
    "\n",
    "# param_grid = {\n",
    "#     'preprocessor__cv__lowercase': [True, False],\n",
    "#     'preprocessor__cv__ngram_range': [(1, 1), (1, 2), (2, 2)],\n",
    "#     'classifier__alpha': uniform(0.01, 2.0)  # Alpha parameter for MultinomialNB\n",
    "# }\n",
    "\n",
    "# random_search = RandomizedSearchCV(\n",
    "#     estimator=pipeline,\n",
    "#     param_distributions=param_grid,\n",
    "#     n_iter=10,  # Number of random combinations to try\n",
    "#     scoring='f1_micro',\n",
    "#     cv=5,  # Number of cross-validation folds\n",
    "#     random_state=42,\n",
    "#     n_jobs=-1  # Use all available CPU cores for parallel processing\n",
    "# )\n",
    "\n",
    "# random_search.fit(X_train, y_train_encoded)\n",
    "\n",
    "\n",
    "# model = random_search.best_estimator_\n",
    "# best_params = random_search.best_params_\n",
    "\n",
    "\n",
    "# y_train_pred_encoded = model.predict(X_train)\n",
    "# y_train_pred = label_encoder.inverse_transform(y_train_pred_encoded)\n",
    "\n",
    "# print(\"Best Hyperparameters:\", best_params)"
   ]
  },
  {
   "cell_type": "code",
   "execution_count": 27,
   "id": "faaa8008",
   "metadata": {
    "execution": {
     "iopub.execute_input": "2023-08-12T04:04:46.237810Z",
     "iopub.status.busy": "2023-08-12T04:04:46.236894Z",
     "iopub.status.idle": "2023-08-12T04:04:46.242914Z",
     "shell.execute_reply": "2023-08-12T04:04:46.241693Z"
    },
    "papermill": {
     "duration": 0.025199,
     "end_time": "2023-08-12T04:04:46.245184",
     "exception": false,
     "start_time": "2023-08-12T04:04:46.219985",
     "status": "completed"
    },
    "tags": []
   },
   "outputs": [],
   "source": [
    "# #-------------------------------------------------------------------------------------------------------\n",
    "# # Model Training with Best Hyperparameter\n",
    "# #-------------------------------------------------------------------------------------------------------\n",
    "\n",
    "# label_encoder = LabelEncoder()\n",
    "# y_train_encoded = label_encoder.fit_transform(y_train)\n",
    "\n",
    "# preprocessor = ColumnTransformer(\n",
    "#     transformers=\n",
    "#     [\n",
    "#         ('ohe', OneHotEncoder(handle_unknown='ignore'), ['movieid', 'reviewerName']),\n",
    "#         ('tf', TfidfVectorizer(stop_words='english', ngram_range = (1, 1)), 'reviewText')\n",
    "# #         ('cv', CountVectorizer(stop_words='english'), 'reviewText'),\n",
    "#     ],\n",
    "#     remainder='passthrough'\n",
    "# )\n",
    "\n",
    "# pipeline = Pipeline([\n",
    "#     ('preprocessor', preprocessor),\n",
    "#     ('classifier', MultinomialNB(alpha=0.47))\n",
    "# ])\n",
    "\n",
    "# model = pipeline.fit(X_train, y_train_encoded)\n",
    "\n",
    "# y_train_pred_encoded = model.predict(X_train)\n",
    "# y_train_pred = label_encoder.inverse_transform(y_train_pred_encoded)"
   ]
  },
  {
   "cell_type": "markdown",
   "id": "1121e00c",
   "metadata": {
    "papermill": {
     "duration": 0.014864,
     "end_time": "2023-08-12T04:04:46.275310",
     "exception": false,
     "start_time": "2023-08-12T04:04:46.260446",
     "status": "completed"
    },
    "tags": []
   },
   "source": [
    "# MODEL 2\n",
    "## **Gradient Boosting Classifier**"
   ]
  },
  {
   "cell_type": "code",
   "execution_count": 28,
   "id": "d583ccda",
   "metadata": {
    "execution": {
     "iopub.execute_input": "2023-08-12T04:04:46.308446Z",
     "iopub.status.busy": "2023-08-12T04:04:46.308022Z",
     "iopub.status.idle": "2023-08-12T04:04:46.314381Z",
     "shell.execute_reply": "2023-08-12T04:04:46.313304Z"
    },
    "papermill": {
     "duration": 0.025491,
     "end_time": "2023-08-12T04:04:46.316663",
     "exception": false,
     "start_time": "2023-08-12T04:04:46.291172",
     "status": "completed"
    },
    "tags": []
   },
   "outputs": [],
   "source": [
    "# #-------------------------------------------------------------------------------------------------------\n",
    "# # Model Training with Hyperparameter Tuning\n",
    "# #-------------------------------------------------------------------------------------------------------\n",
    "\n",
    "\n",
    "# label_encoder = LabelEncoder()\n",
    "# y_train_encoded = label_encoder.fit_transform(y_train)\n",
    "# preprocessor = ColumnTransformer(\n",
    "#     transformers=\n",
    "#     [\n",
    "#         ('ohe', OneHotEncoder(handle_unknown='ignore'), ['movieid', 'reviewerName']),\n",
    "#         ('tf', TfidfVectorizer(stop_words='english'), 'reviewText')\n",
    "# #         ('cv', CountVectorizer(stop_words='english'), 'reviewText')\n",
    "#     ],\n",
    "#     remainder='passthrough'\n",
    "# )\n",
    "\n",
    "# pipeline = Pipeline([\n",
    "#     ('preprocessor', preprocessor),\n",
    "#     ('classifier', GradientBoostingClassifier())\n",
    "# ])\n",
    "\n",
    "# param_dist = {\n",
    "#     'preprocessor__tf__lowercase': [True, False],\n",
    "#     'preprocessor__tf__ngram_range': [(1, 1), (1, 2), (2, 2)],\n",
    "#     'classifier__learning_rate': [0.01, 0.05, 0.1, 0.2],\n",
    "#     'classifier__max_depth': randint(3, 6),\n",
    "# }\n",
    "\n",
    "# random_search = RandomizedSearchCV(pipeline, param_distributions=param_dist, cv=5, scoring='f1_micro', verbose=1, n_jobs=-1)\n",
    "\n",
    "# random_search.fit(X_train, y_train_encoded)\n",
    "\n",
    "\n",
    "# model = random_search.best_estimator_\n",
    "# best_params = random_search.best_params_\n",
    "\n",
    "\n",
    "# y_train_pred_encoded = model.predict(X_train)\n",
    "# y_train_pred = label_encoder.inverse_transform(y_train_pred_encoded)\n",
    "\n",
    "# print(\"Best Hyperparameters:\", best_params)\n"
   ]
  },
  {
   "cell_type": "code",
   "execution_count": 29,
   "id": "0c286429",
   "metadata": {
    "execution": {
     "iopub.execute_input": "2023-08-12T04:04:46.351025Z",
     "iopub.status.busy": "2023-08-12T04:04:46.350517Z",
     "iopub.status.idle": "2023-08-12T04:04:46.356228Z",
     "shell.execute_reply": "2023-08-12T04:04:46.354913Z"
    },
    "papermill": {
     "duration": 0.027014,
     "end_time": "2023-08-12T04:04:46.358962",
     "exception": false,
     "start_time": "2023-08-12T04:04:46.331948",
     "status": "completed"
    },
    "tags": []
   },
   "outputs": [],
   "source": [
    "# #-------------------------------------------------------------------------------------------------------\n",
    "# # Model Training with Best Hyperparameter\n",
    "# #-------------------------------------------------------------------------------------------------------\n",
    "\n",
    "# label_encoder = LabelEncoder()\n",
    "# y_train_encoded = label_encoder.fit_transform(y_train)\n",
    "\n",
    "# preprocessor = ColumnTransformer(\n",
    "#     transformers=\n",
    "#     [\n",
    "#         ('ohe', OneHotEncoder(handle_unknown='ignore'), ['movieid', 'reviewerName']),\n",
    "#         ('tf', TfidfVectorizer(stop_words='english', ngram_range=(1,2), lowercase=True), 'reviewText')\n",
    "# #         ('cv', CountVectorizer(stop_words='english'), 'reviewText'),\n",
    "#     ],\n",
    "#     remainder='passthrough'\n",
    "# )\n",
    "\n",
    "# pipeline = Pipeline([\n",
    "#     ('preprocessor', preprocessor),\n",
    "#     ('classifier', GradientBoostingClassifier(max_depth=2))\n",
    "# ])\n",
    "\n",
    "# model = pipeline.fit(X_train, y_train_encoded)\n",
    "\n",
    "# y_train_pred_encoded = model.predict(X_train)\n",
    "# y_train_pred = label_encoder.inverse_transform(y_train_pred_encoded)"
   ]
  },
  {
   "cell_type": "markdown",
   "id": "92f57891",
   "metadata": {
    "papermill": {
     "duration": 0.01528,
     "end_time": "2023-08-12T04:04:46.390248",
     "exception": false,
     "start_time": "2023-08-12T04:04:46.374968",
     "status": "completed"
    },
    "tags": []
   },
   "source": [
    "# MODEL 3\n",
    "## **Logistic Regression**"
   ]
  },
  {
   "cell_type": "code",
   "execution_count": 30,
   "id": "20b4f9a2",
   "metadata": {
    "execution": {
     "iopub.execute_input": "2023-08-12T04:04:46.424282Z",
     "iopub.status.busy": "2023-08-12T04:04:46.423861Z",
     "iopub.status.idle": "2023-08-12T04:04:46.429566Z",
     "shell.execute_reply": "2023-08-12T04:04:46.428307Z"
    },
    "papermill": {
     "duration": 0.025805,
     "end_time": "2023-08-12T04:04:46.432015",
     "exception": false,
     "start_time": "2023-08-12T04:04:46.406210",
     "status": "completed"
    },
    "tags": []
   },
   "outputs": [],
   "source": [
    "# # -------------------------------------------------------------------------------------------------------\n",
    "# # Model Training with Hyperparameter Tuning\n",
    "# # -------------------------------------------------------------------------------------------------------\n",
    "\n",
    "# label_encoder = LabelEncoder()\n",
    "# y_train_encoded = label_encoder.fit_transform(y_train)\n",
    "# preprocessor = ColumnTransformer(\n",
    "#     transformers=\n",
    "#     [\n",
    "#         ('ohe', OneHotEncoder(handle_unknown='ignore'), ['movieid', 'reviewerName']),\n",
    "#         ('tf', TfidfVectorizer(stop_words='english'), 'reviewText')\n",
    "# #         ('cv', CountVectorizer(stop_words='english'), 'reviewText')\n",
    "#     ],\n",
    "#     remainder='passthrough'\n",
    "# )\n",
    "\n",
    "# pipeline = Pipeline([\n",
    "#     ('preprocessor', preprocessor),\n",
    "#     ('classifier', LogisticRegression())\n",
    "# ])\n",
    "\n",
    "# param_dist = {\n",
    "#     'preprocessor__tf__ngram_range': [(1, 1), (1, 2), (2, 2)],\n",
    "#     'classifier__C': [1,2,3,4,5,6,7,8,9,10,11,12,13,14,15,16,17,18,19,20],\n",
    "#     'classifier__max_iter': [100, 500, 1000],\n",
    "#     'classifier__solver': ['liblinear', 'lbfgs', 'saga']\n",
    "# }\n",
    "\n",
    "\n",
    "# random_search = RandomizedSearchCV(pipeline, param_distributions=param_dist, cv=5, scoring='f1_micro', verbose=1, n_jobs=-1)\n",
    "\n",
    "# random_search.fit(X_train, y_train_encoded)\n",
    "\n",
    "\n",
    "# model = random_search.best_estimator_\n",
    "# best_params = random_search.best_params_\n",
    "\n",
    "\n",
    "\n",
    "# y_train_pred_encoded = model.predict(X_train)\n",
    "# y_train_pred = label_encoder.inverse_transform(y_train_pred_encoded)\n",
    "\n",
    "# print(\"Best Hyperparameters:\", best_params)"
   ]
  },
  {
   "cell_type": "code",
   "execution_count": 31,
   "id": "e5948191",
   "metadata": {
    "execution": {
     "iopub.execute_input": "2023-08-12T04:04:46.465127Z",
     "iopub.status.busy": "2023-08-12T04:04:46.464718Z",
     "iopub.status.idle": "2023-08-12T04:04:46.563066Z",
     "shell.execute_reply": "2023-08-12T04:04:46.561462Z"
    },
    "papermill": {
     "duration": 0.118201,
     "end_time": "2023-08-12T04:04:46.566144",
     "exception": false,
     "start_time": "2023-08-12T04:04:46.447943",
     "status": "completed"
    },
    "tags": []
   },
   "outputs": [
    {
     "name": "stdout",
     "output_type": "stream",
     "text": [
      "<class 'pandas.core.frame.DataFrame'>\n",
      "RangeIndex: 209438 entries, 0 to 209437\n",
      "Data columns (total 4 columns):\n",
      " #   Column              Non-Null Count   Dtype  \n",
      "---  ------              --------------   -----  \n",
      " 0   movieid             209438 non-null  object \n",
      " 1   isFrequentReviewer  209438 non-null  bool   \n",
      " 2   reviewText          209438 non-null  object \n",
      " 3   audienceScore       209438 non-null  float64\n",
      "dtypes: bool(1), float64(1), object(2)\n",
      "memory usage: 5.0+ MB\n"
     ]
    }
   ],
   "source": [
    "X_train.info()"
   ]
  },
  {
   "cell_type": "code",
   "execution_count": 32,
   "id": "528ba72a",
   "metadata": {
    "execution": {
     "iopub.execute_input": "2023-08-12T04:04:46.599004Z",
     "iopub.status.busy": "2023-08-12T04:04:46.598567Z",
     "iopub.status.idle": "2023-08-12T04:10:55.584927Z",
     "shell.execute_reply": "2023-08-12T04:10:55.583847Z"
    },
    "papermill": {
     "duration": 369.006094,
     "end_time": "2023-08-12T04:10:55.587876",
     "exception": false,
     "start_time": "2023-08-12T04:04:46.581782",
     "status": "completed"
    },
    "tags": []
   },
   "outputs": [],
   "source": [
    "# -------------------------------------------------------------------------------------------------------\n",
    "# Model Training with Best Hyperparameter\n",
    "# -------------------------------------------------------------------------------------------------------\n",
    "\n",
    "label_encoder = LabelEncoder()\n",
    "y_train_encoded = label_encoder.fit_transform(y_train)\n",
    "\n",
    "preprocessor = ColumnTransformer(\n",
    "    transformers=\n",
    "    [   \n",
    "        ('scaler', StandardScaler(), ['audienceScore']),\n",
    "        ('ohe', OneHotEncoder(handle_unknown='ignore'), ['movieid']),\n",
    "        ('tf', TfidfVectorizer(stop_words='english', ngram_range=(1, 2)), 'reviewText')\n",
    "#         ('cv', CountVectorizer(stop_words='english'), 'reviewText')\n",
    "    ],\n",
    "    remainder='passthrough'\n",
    ")\n",
    "\n",
    "pipeline = Pipeline([\n",
    "    ('preprocessor', preprocessor),\n",
    "    ('classifier', LogisticRegression(max_iter=5000, C=7, solver='lbfgs'))\n",
    "])\n",
    "\n",
    "\n",
    "model = pipeline.fit(X_train, y_train_encoded)\n",
    "\n",
    "y_train_pred_encoded = model.predict(X_train)\n",
    "y_train_pred = label_encoder.inverse_transform(y_train_pred_encoded)"
   ]
  },
  {
   "cell_type": "code",
   "execution_count": null,
   "id": "d8f988eb",
   "metadata": {
    "papermill": {
     "duration": 0.015604,
     "end_time": "2023-08-12T04:10:55.621242",
     "exception": false,
     "start_time": "2023-08-12T04:10:55.605638",
     "status": "completed"
    },
    "tags": []
   },
   "outputs": [],
   "source": []
  },
  {
   "cell_type": "markdown",
   "id": "4d7e769c",
   "metadata": {
    "papermill": {
     "duration": 0.014948,
     "end_time": "2023-08-12T04:10:55.652054",
     "exception": false,
     "start_time": "2023-08-12T04:10:55.637106",
     "status": "completed"
    },
    "tags": []
   },
   "source": [
    "# MODEL 4\n",
    "## **Stochastic Gradient Descent Classifier**"
   ]
  },
  {
   "cell_type": "code",
   "execution_count": 33,
   "id": "c5318e55",
   "metadata": {
    "execution": {
     "iopub.execute_input": "2023-08-12T04:10:55.684930Z",
     "iopub.status.busy": "2023-08-12T04:10:55.684219Z",
     "iopub.status.idle": "2023-08-12T04:10:55.690001Z",
     "shell.execute_reply": "2023-08-12T04:10:55.689148Z"
    },
    "papermill": {
     "duration": 0.02539,
     "end_time": "2023-08-12T04:10:55.692587",
     "exception": false,
     "start_time": "2023-08-12T04:10:55.667197",
     "status": "completed"
    },
    "tags": []
   },
   "outputs": [],
   "source": [
    "# # -------------------------------------------------------------------------------------------------------\n",
    "# # Model Training with Hyperparameter Tuning\n",
    "# # -------------------------------------------------------------------------------------------------------\n",
    "\n",
    "# label_encoder = LabelEncoder()\n",
    "# y_train_encoded = label_encoder.fit_transform(y_train)\n",
    "# preprocessor = ColumnTransformer(\n",
    "#     transformers=\n",
    "#     [\n",
    "#         ('ohe', OneHotEncoder(handle_unknown='ignore'), ['movieid', 'reviewerName']),\n",
    "#         ('tf', TfidfVectorizer(stop_words='english'), 'reviewText')\n",
    "#         # ('cv', CountVectorizer(stop_words='english'), 'reviewText')\n",
    "#     ],\n",
    "#     remainder='passthrough'\n",
    "# )\n",
    "\n",
    "# pipeline = Pipeline([\n",
    "#     ('preprocessor', preprocessor),\n",
    "#     ('classifier', SGDClassifier(loss='hinge'))\n",
    "# ])\n",
    "\n",
    "\n",
    "# param_dist = {\n",
    "#     'preprocessor__tf__ngram_range': [(1, 1), (1, 2), (2, 2)],\n",
    "#     'classifier__max_iter': [100, 500, 1000, 1500, 2000],\n",
    "#     'classifier__alpha': [0.00015, 0.0001, 0.00005]\n",
    "# }\n",
    "\n",
    "\n",
    "# random_search = RandomizedSearchCV(pipeline, param_distributions=param_dist, n_iter=20, cv=5, scoring='f1_micro', verbose=1, n_jobs=-1)\n",
    "\n",
    "# random_search.fit(X_train, y_train_encoded)\n",
    "\n",
    "\n",
    "# model = random_search.best_estimator_\n",
    "# best_params = random_search.best_params_\n",
    "\n",
    "\n",
    "# y_train_pred_encoded = model.predict(X_train)\n",
    "# y_train_pred = label_encoder.inverse_transform(y_train_pred_encoded)\n",
    "# print(\"Best Hyperparameters:\", best_params)"
   ]
  },
  {
   "cell_type": "code",
   "execution_count": 34,
   "id": "c6e8ec7f",
   "metadata": {
    "execution": {
     "iopub.execute_input": "2023-08-12T04:10:55.726552Z",
     "iopub.status.busy": "2023-08-12T04:10:55.725930Z",
     "iopub.status.idle": "2023-08-12T04:10:55.731173Z",
     "shell.execute_reply": "2023-08-12T04:10:55.730363Z"
    },
    "papermill": {
     "duration": 0.024751,
     "end_time": "2023-08-12T04:10:55.733452",
     "exception": false,
     "start_time": "2023-08-12T04:10:55.708701",
     "status": "completed"
    },
    "tags": []
   },
   "outputs": [],
   "source": [
    "# #-------------------------------------------------------------------------------------------------------\n",
    "# # Model Training with Best Hyperparameter\n",
    "# #-------------------------------------------------------------------------------------------------------\n",
    "\n",
    "# label_encoder = LabelEncoder()\n",
    "# y_train_encoded = label_encoder.fit_transform(y_train)\n",
    "\n",
    "# preprocessor = ColumnTransformer(\n",
    "#     transformers=\n",
    "#     [\n",
    "#         ('ohe', OneHotEncoder(handle_unknown='ignore'), ['movieid', 'reviewerName']),\n",
    "#         ('tf', TfidfVectorizer(stop_words='english', ngram_range=(1, 1)), 'reviewText')\n",
    "# #         ('cv', CountVectorizer(stop_words='english'), 'reviewText')\n",
    "#     ],\n",
    "#     remainder='passthrough'\n",
    "# )\n",
    "\n",
    "# pipeline = Pipeline([\n",
    "#     ('preprocessor', preprocessor),\n",
    "#     ('classifier', SGDClassifier(loss='hinge', alpha=5e-05, max_iter=2000))\n",
    "# ])\n",
    "\n",
    "\n",
    "# model = pipeline.fit(X_train, y_train_encoded)\n",
    "\n",
    "# y_train_pred_encoded = model.predict(X_train)\n",
    "# y_train_pred = label_encoder.inverse_transform(y_train_pred_encoded)"
   ]
  },
  {
   "cell_type": "markdown",
   "id": "741a3f76",
   "metadata": {
    "papermill": {
     "duration": 0.015017,
     "end_time": "2023-08-12T04:10:55.763747",
     "exception": false,
     "start_time": "2023-08-12T04:10:55.748730",
     "status": "completed"
    },
    "tags": []
   },
   "source": [
    "# MODEL 5\n",
    "## **Random Forest Classifier**"
   ]
  },
  {
   "cell_type": "code",
   "execution_count": 35,
   "id": "00e7022b",
   "metadata": {
    "execution": {
     "iopub.execute_input": "2023-08-12T04:10:55.798594Z",
     "iopub.status.busy": "2023-08-12T04:10:55.797965Z",
     "iopub.status.idle": "2023-08-12T04:10:55.803666Z",
     "shell.execute_reply": "2023-08-12T04:10:55.802804Z"
    },
    "papermill": {
     "duration": 0.026325,
     "end_time": "2023-08-12T04:10:55.806182",
     "exception": false,
     "start_time": "2023-08-12T04:10:55.779857",
     "status": "completed"
    },
    "tags": []
   },
   "outputs": [],
   "source": [
    "# #-------------------------------------------------------------------------------------------------------\n",
    "# # Model Training with Hyperparameter Tuning\n",
    "# #-------------------------------------------------------------------------------------------------------\n",
    "\n",
    "# label_encoder = LabelEncoder()\n",
    "# y_train_encoded = label_encoder.fit_transform(y_train)\n",
    "# preprocessor = ColumnTransformer(\n",
    "#     transformers=\n",
    "#     [\n",
    "#         ('ohe', OneHotEncoder(handle_unknown='ignore'), ['movieid', 'reviewerName']),\n",
    "#         ('tf', TfidfVectorizer(stop_words='english'), 'reviewText')\n",
    "#         # ('cv', CountVectorizer(stop_words='english'), 'reviewText')\n",
    "#     ],\n",
    "#     remainder='passthrough'\n",
    "# )\n",
    "\n",
    "# pipeline = Pipeline([\n",
    "#     ('preprocessor', preprocessor),\n",
    "#     ('classifier', RandomForestClassifier())\n",
    "# ])\n",
    "\n",
    "# param_dist = {\n",
    "#     'preprocessor__tf__ngram_range': [(1, 1), (1, 2), (2, 2)],\n",
    "#     'classifier__n_estimators': randint(50, 150),\n",
    "#     'classifier__max_depth': randint(2, 6),\n",
    "#     'classifier__max_features': ['auto', 'sqrt', 'log2'],\n",
    "#     'classifier__bootstrap': [True, False]\n",
    "# }\n",
    "\n",
    "\n",
    "# random_search = RandomizedSearchCV(pipeline, param_distributions=param_dist, n_iter=20, cv=5, scoring='f1_micro', verbose=1, n_jobs=-1)\n",
    "\n",
    "# random_search.fit(X_train, y_train_encoded)\n",
    "\n",
    "\n",
    "# model = random_search.best_estimator_\n",
    "# best_params = random_search.best_params_\n",
    "\n",
    "\n",
    "# y_train_pred_encoded = model.predict(X_train)\n",
    "# y_train_pred = label_encoder.inverse_transform(y_train_pred_encoded)\n",
    "\n",
    "# print(\"Best Hyperparameters:\", best_params)"
   ]
  },
  {
   "cell_type": "code",
   "execution_count": 36,
   "id": "d3e9309c",
   "metadata": {
    "execution": {
     "iopub.execute_input": "2023-08-12T04:10:55.841034Z",
     "iopub.status.busy": "2023-08-12T04:10:55.840325Z",
     "iopub.status.idle": "2023-08-12T04:10:55.846609Z",
     "shell.execute_reply": "2023-08-12T04:10:55.845099Z"
    },
    "papermill": {
     "duration": 0.027459,
     "end_time": "2023-08-12T04:10:55.849780",
     "exception": false,
     "start_time": "2023-08-12T04:10:55.822321",
     "status": "completed"
    },
    "tags": []
   },
   "outputs": [],
   "source": [
    "# #-------------------------------------------------------------------------------------------------------\n",
    "# # Model Training with Best Hyperparameter\n",
    "# #-------------------------------------------------------------------------------------------------------\n",
    "\n",
    "# label_encoder = LabelEncoder()\n",
    "# y_train_encoded = label_encoder.fit_transform(y_train)\n",
    "\n",
    "# preprocessor = ColumnTransformer(\n",
    "#     transformers=\n",
    "#     [\n",
    "#         ('ohe', OneHotEncoder(handle_unknown='ignore'), ['movieid', 'reviewerName']),\n",
    "#         ('tf', TfidfVectorizer(stop_words='english', ngram_range=(1, 1)), 'reviewText')\n",
    "# #         ('cv', CountVectorizer(stop_words='english'), 'reviewText')\n",
    "#     ],\n",
    "#     remainder='passthrough'\n",
    "# )\n",
    "\n",
    "# pipeline = Pipeline([\n",
    "#     ('preprocessor', preprocessor),\n",
    "#     ('classifier', RandomForestClassifier(bootstrap=True, max_depth=2, max_features='log2', n_estimators=111))\n",
    "# ])\n",
    "\n",
    "\n",
    "# model = pipeline.fit(X_train, y_train_encoded)\n",
    "\n",
    "# y_train_pred_encoded = model.predict(X_train)\n",
    "# y_train_pred = label_encoder.inverse_transform(y_train_pred_encoded)"
   ]
  },
  {
   "cell_type": "markdown",
   "id": "1b2c60a9",
   "metadata": {
    "papermill": {
     "duration": 0.015427,
     "end_time": "2023-08-12T04:10:55.883102",
     "exception": false,
     "start_time": "2023-08-12T04:10:55.867675",
     "status": "completed"
    },
    "tags": []
   },
   "source": [
    "# Summary of Model Performance"
   ]
  },
  {
   "cell_type": "code",
   "execution_count": 37,
   "id": "c3d7f548",
   "metadata": {
    "execution": {
     "iopub.execute_input": "2023-08-12T04:10:55.920689Z",
     "iopub.status.busy": "2023-08-12T04:10:55.919648Z",
     "iopub.status.idle": "2023-08-12T04:11:10.041018Z",
     "shell.execute_reply": "2023-08-12T04:11:10.039765Z"
    },
    "papermill": {
     "duration": 14.143099,
     "end_time": "2023-08-12T04:11:10.043631",
     "exception": false,
     "start_time": "2023-08-12T04:10:55.900532",
     "status": "completed"
    },
    "tags": []
   },
   "outputs": [
    {
     "name": "stdout",
     "output_type": "stream",
     "text": [
      "F1 Score (Micro) on Train Data: 0.9957791804734576\n",
      "Classification Report on Train Data:\n",
      "               precision    recall  f1-score   support\n",
      "\n",
      "    NEGATIVE       0.99      1.00      1.00    104719\n",
      "    POSITIVE       1.00      0.99      1.00    104719\n",
      "\n",
      "    accuracy                           1.00    209438\n",
      "   macro avg       1.00      1.00      1.00    209438\n",
      "weighted avg       1.00      1.00      1.00    209438\n",
      "\n",
      "Confusion Matrix on Train Data:\n",
      " [[104430    289]\n",
      " [   595 104124]]\n",
      "\n",
      "\n"
     ]
    },
    {
     "data": {
      "image/png": "[encoded data removed]",
      "text/plain": [
       "<Figure size 640x480 with 2 Axes>"
      ]
     },
     "metadata": {},
     "output_type": "display_data"
    }
   ],
   "source": [
    "classification_rep_train = classification_report(y_train, y_train_pred)\n",
    "f1_micro_train = f1_score(y_train, y_train_pred, average='micro')\n",
    "\n",
    "print(\"F1 Score (Micro) on Train Data:\", f1_micro_train)\n",
    "print(\"Classification Report on Train Data:\\n\", classification_rep_train)\n",
    "\n",
    "# Calculate confusion matrix\n",
    "confusion_mat_train = confusion_matrix(y_train, y_train_pred, labels=label_encoder.classes_)\n",
    "\n",
    "# Print confusion matrix\n",
    "print(\"Confusion Matrix on Train Data:\\n\", confusion_mat_train)\n",
    "print('\\n')\n",
    "# Visualize the confusion matrix\n",
    "disp = ConfusionMatrixDisplay(confusion_matrix=confusion_mat_train, display_labels=label_encoder.classes_)\n",
    "disp.plot(cmap='Blues')\n",
    "plt.title(\"Confusion Matrix on Train Data\")\n",
    "plt.show()"
   ]
  },
  {
   "cell_type": "markdown",
   "id": "21dbe1bb",
   "metadata": {
    "papermill": {
     "duration": 0.018279,
     "end_time": "2023-08-12T04:11:10.080247",
     "exception": false,
     "start_time": "2023-08-12T04:11:10.061968",
     "status": "completed"
    },
    "tags": []
   },
   "source": [
    "# Generating Predictions and Creating Submission File"
   ]
  },
  {
   "cell_type": "code",
   "execution_count": 38,
   "id": "48b5c1c9",
   "metadata": {
    "execution": {
     "iopub.execute_input": "2023-08-12T04:11:10.118462Z",
     "iopub.status.busy": "2023-08-12T04:11:10.118064Z",
     "iopub.status.idle": "2023-08-12T04:11:12.803204Z",
     "shell.execute_reply": "2023-08-12T04:11:12.801821Z"
    },
    "papermill": {
     "duration": 2.708287,
     "end_time": "2023-08-12T04:11:12.805810",
     "exception": false,
     "start_time": "2023-08-12T04:11:10.097523",
     "status": "completed"
    },
    "tags": []
   },
   "outputs": [
    {
     "name": "stdout",
     "output_type": "stream",
     "text": [
      "Done\n"
     ]
    }
   ],
   "source": [
    "y_pred_encoded = model.predict(X_test)\n",
    "y_pred = label_encoder.inverse_transform(y_pred_encoded)\n",
    "submission_df = pd.DataFrame({\"id\": range(len(y_pred)), \"sentiment\": y_pred})\n",
    "submission_df.to_csv(\"submission.csv\", index=False)\n",
    "print('Done')"
   ]
  }
 ],
 "metadata": {
  "kernelspec": {
   "display_name": "Python 3",
   "language": "python",
   "name": "python3"
  },
  "language_info": {
   "codemirror_mode": {
    "name": "ipython",
    "version": 3
   },
   "file_extension": ".py",
   "mimetype": "text/x-python",
   "name": "python",
   "nbconvert_exporter": "python",
   "pygments_lexer": "ipython3",
   "version": "3.10.10"
  },
  "papermill": {
   "default_parameters": {},
   "duration": 414.069573,
   "end_time": "2023-08-12T04:11:14.549941",
   "environment_variables": {},
   "exception": null,
   "input_path": "__notebook__.ipynb",
   "output_path": "__notebook__.ipynb",
   "parameters": {},
   "start_time": "2023-08-12T04:04:20.480368",
   "version": "2.4.0"
  }
 },
 "nbformat": 4,
 "nbformat_minor": 5
}
